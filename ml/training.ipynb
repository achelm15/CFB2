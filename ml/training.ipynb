{
 "cells": [
  {
   "cell_type": "code",
   "execution_count": 1,
   "id": "aacf6545",
   "metadata": {},
   "outputs": [],
   "source": [
    "import pandas as pd\n",
    "from sklearn.model_selection import train_test_split\n",
    "import numpy as np\n",
    "from cfb_utils import get_data, run_test, get_lines, get_team_data\n",
    "np.set_printoptions(precision=3, suppress=True)\n",
    "import keras_tuner as kt\n",
    "from tensorflow import keras\n",
    "import tensorflow as tf\n",
    "from tensorflow.keras import layers"
   ]
  },
  {
   "cell_type": "code",
   "execution_count": 2,
   "id": "f39453d1",
   "metadata": {},
   "outputs": [],
   "source": [
    "cfb_features_train, cfb_features_test, cfb_labels_train, cfb_labels_test = get_data()"
   ]
  },
  {
   "cell_type": "code",
   "execution_count": 109,
   "id": "233ce6c5",
   "metadata": {},
   "outputs": [],
   "source": [
    "initializer = keras.initializers.RandomNormal(mean=0., stddev=1.)\n",
    "model = keras.Sequential(\n",
    "    [\n",
    "        layers.Input(shape=(cfb_features_train.shape[1])),\n",
    "        \n",
    "        \n",
    "        layers.Dense(512, activation=\"relu\", bias_initializer=initializer),\n",
    "        layers.Dense(256, activation=\"relu\", bias_initializer=initializer),\n",
    "        layers.Dense(128, activation=\"relu\", bias_initializer=initializer),\n",
    "        layers.Dropout(0.30),\n",
    "        layers.Dense(64, activation=\"relu\", bias_initializer=initializer),\n",
    "        layers.Dense(32, activation=\"relu\", bias_initializer=initializer),\n",
    "        layers.Dense(16, activation=\"relu\", bias_initializer=initializer),\n",
    "        layers.Dense(8, activation=\"relu\", bias_initializer=initializer),\n",
    "        layers.Dropout(0.2),\n",
    "        layers.Dense(4, activation=\"relu\", bias_initializer=initializer),\n",
    "        layers.Dense(2, activation=\"softplus\", bias_initializer=initializer),\n",
    "    ])\n",
    "model.build()"
   ]
  },
  {
   "cell_type": "code",
   "execution_count": 111,
   "id": "df7fb4d7",
   "metadata": {},
   "outputs": [
    {
     "name": "stdout",
     "output_type": "stream",
     "text": [
      "Epoch 1/10\n",
      "255/255 [==============================] - 4s 12ms/step - loss: 11.3080 - mse: 214.0764 - val_loss: 11.6084 - val_mse: 217.8332\n",
      "Epoch 2/10\n",
      "255/255 [==============================] - 3s 10ms/step - loss: 11.1268 - mse: 208.5337 - val_loss: 11.3346 - val_mse: 207.7408\n",
      "Epoch 3/10\n",
      "255/255 [==============================] - 3s 10ms/step - loss: 10.9629 - mse: 202.6437 - val_loss: 11.8055 - val_mse: 223.4067\n",
      "Epoch 4/10\n",
      "255/255 [==============================] - 3s 10ms/step - loss: 10.8412 - mse: 197.0575 - val_loss: 11.0196 - val_mse: 197.0785\n",
      "Epoch 5/10\n",
      "255/255 [==============================] - 3s 12ms/step - loss: 10.8629 - mse: 197.7728 - val_loss: 11.1943 - val_mse: 202.6993\n",
      "Epoch 6/10\n",
      "255/255 [==============================] - 3s 10ms/step - loss: 10.7032 - mse: 192.3125 - val_loss: 13.3117 - val_mse: 274.5964\n",
      "Epoch 7/10\n",
      "255/255 [==============================] - 3s 10ms/step - loss: 10.6582 - mse: 190.9744 - val_loss: 11.7907 - val_mse: 222.8785\n",
      "Epoch 8/10\n",
      "255/255 [==============================] - 3s 10ms/step - loss: 10.5805 - mse: 187.4730 - val_loss: 11.6885 - val_mse: 219.9870\n",
      "Epoch 9/10\n",
      "255/255 [==============================] - 3s 10ms/step - loss: 10.5945 - mse: 186.8529 - val_loss: 12.1393 - val_mse: 234.0428\n",
      "Epoch 10/10\n",
      "255/255 [==============================] - 3s 10ms/step - loss: 10.4815 - mse: 181.5783 - val_loss: 12.2524 - val_mse: 238.2323\n"
     ]
    }
   ],
   "source": [
    "model.compile(loss=keras.losses.MeanAbsoluteError(), \n",
    "              optimizer=keras.optimizers.Adam(learning_rate=0.001), \n",
    "              metrics = 'mse')\n",
    "history = model.fit(cfb_features_train, cfb_labels_train, \n",
    "          validation_data=(cfb_features_test, cfb_labels_test), \n",
    "          epochs=10,\n",
    "         )"
   ]
  },
  {
   "cell_type": "code",
   "execution_count": 78,
   "id": "73c85230",
   "metadata": {},
   "outputs": [
    {
     "data": {
      "image/png": "[encoded data removed]",
      "text/plain": [
       "<Figure size 432x288 with 1 Axes>"
      ]
     },
     "metadata": {},
     "output_type": "display_data"
    }
   ],
   "source": [
    "import matplotlib.pyplot as plt\n",
    "plt.style.use('ggplot')\n",
    "plt.plot(history.history['loss'], label = 'loss')\n",
    "plt.plot(history.history['val_loss'], label='val loss')\n",
    "plt.title(\"Loss vs Val_Loss\")\n",
    "plt.xlabel(\"Epochs\")\n",
    "plt.ylabel(\"Loss\")\n",
    "plt.legend()\n",
    "plt.show()"
   ]
  },
  {
   "cell_type": "code",
   "execution_count": 44,
   "id": "03f0b13a",
   "metadata": {},
   "outputs": [
    {
     "name": "stdout",
     "output_type": "stream",
     "text": [
      "3070 / 4014\n",
      "acc =  0.7648231190832088\n"
     ]
    }
   ],
   "source": [
    "run_test(cfb_features_test, cfb_labels_test, [model])"
   ]
  },
  {
   "cell_type": "code",
   "execution_count": 58,
   "id": "97322a58",
   "metadata": {
    "collapsed": true
   },
   "outputs": [
    {
     "name": "stdout",
     "output_type": "stream",
     "text": [
      "3014 / 4014\n",
      "acc =  0.7508719481813653\n",
      "INFO:tensorflow:Assets written to: models/acc_750/model/assets\n"
     ]
    }
   ],
   "source": [
    "cfb_features_train, cfb_features_test, cfb_labels_train, cfb_labels_test = get_data()\n",
    "run_test(cfb_features_test, cfb_labels_test, model)"
   ]
  },
  {
   "cell_type": "code",
   "execution_count": 3,
   "id": "5dfa0fee",
   "metadata": {},
   "outputs": [],
   "source": [
    "lines = get_lines(2022,8)"
   ]
  },
  {
   "cell_type": "code",
   "execution_count": 114,
   "id": "2284fbfe",
   "metadata": {
    "collapsed": true
   },
   "outputs": [
    {
     "name": "stdout",
     "output_type": "stream",
     "text": [
      "Unable to test: Air Force vs. Colorado\n",
      "Unable to test: Wyoming vs. Air Force\n",
      "Unable to test: Air Force vs. Nevada\n",
      "Unable to test: Air Force vs. Navy\n",
      "Unable to test: Utah State vs. Air Force\n",
      "Unable to test: UNLV vs. Air Force\n",
      "0.7626666666666667\n",
      "0.6213333333333333\n"
     ]
    }
   ],
   "source": [
    "test_on_spread(record, stats, elo, stats_list, lines, model)"
   ]
  },
  {
   "cell_type": "code",
   "execution_count": 96,
   "id": "f879aff1",
   "metadata": {
    "collapsed": true
   },
   "outputs": [
    {
     "name": "stdout",
     "output_type": "stream",
     "text": [
      "1: American Athletic\n",
      "2: ACC\n",
      "3: Big 12\n",
      "4: Big Ten\n",
      "5: Conference USA\n",
      "6: FBS Independents\n",
      "7: Mid-American\n",
      "8: Mountain West\n",
      "9: Pac-12\n",
      "10: SEC\n",
      "11: Sun Belt\n",
      "\n",
      "Enter the number of the home team's conference: 4\n",
      "Enter the number of the away team's conference: 4\n",
      "\n",
      "0: Illinois\n",
      "1: Indiana\n",
      "2: Iowa\n",
      "3: Maryland\n",
      "4: Michigan\n",
      "5: Michigan State\n",
      "6: Minnesota\n",
      "7: Nebraska\n",
      "8: Northwestern\n",
      "9: Ohio State\n",
      "10: Penn State\n",
      "11: Purdue\n",
      "12: Rutgers\n",
      "13: Wisconsin\n",
      "\n",
      "Enter the home team's corresponding number: 4\n",
      "\n",
      "0: Illinois\n",
      "1: Indiana\n",
      "2: Iowa\n",
      "3: Maryland\n",
      "4: Michigan\n",
      "5: Michigan State\n",
      "6: Minnesota\n",
      "7: Nebraska\n",
      "8: Northwestern\n",
      "9: Ohio State\n",
      "10: Penn State\n",
      "11: Purdue\n",
      "12: Rutgers\n",
      "13: Wisconsin\n",
      "\n",
      "Enter the home team's corresponding number: 9\n",
      "Michigan: 18, Ohio State: 21\n"
     ]
    }
   ],
   "source": [
    "predict_matchup(record, stats, elo, stats_list, model)"
   ]
  },
  {
   "cell_type": "code",
   "execution_count": 8,
   "id": "105fc820",
   "metadata": {},
   "outputs": [
    {
     "name": "stdout",
     "output_type": "stream",
     "text": [
      "Model: \"sequential_2\"\n",
      "_________________________________________________________________\n",
      " Layer (type)                Output Shape              Param #   \n",
      "=================================================================\n",
      " dense_18 (Dense)            (None, 512)               103936    \n",
      "                                                                 \n",
      " dense_19 (Dense)            (None, 256)               131328    \n",
      "                                                                 \n",
      " dense_20 (Dense)            (None, 128)               32896     \n",
      "                                                                 \n",
      " dropout_4 (Dropout)         (None, 128)               0         \n",
      "                                                                 \n",
      " dense_21 (Dense)            (None, 64)                8256      \n",
      "                                                                 \n",
      " dense_22 (Dense)            (None, 32)                2080      \n",
      "                                                                 \n",
      " dense_23 (Dense)            (None, 16)                528       \n",
      "                                                                 \n",
      " dense_24 (Dense)            (None, 8)                 136       \n",
      "                                                                 \n",
      " dropout_5 (Dropout)         (None, 8)                 0         \n",
      "                                                                 \n",
      " dense_25 (Dense)            (None, 4)                 36        \n",
      "                                                                 \n",
      " dense_26 (Dense)            (None, 2)                 10        \n",
      "                                                                 \n",
      "=================================================================\n",
      "Total params: 279,206\n",
      "Trainable params: 279,206\n",
      "Non-trainable params: 0\n",
      "_________________________________________________________________\n"
     ]
    }
   ],
   "source": [
    "model = keras.models.load_model('models/acc_774/model')\n",
    "model.summary()"
   ]
  },
  {
   "cell_type": "code",
   "execution_count": 91,
   "id": "a6c4d72f",
   "metadata": {},
   "outputs": [],
   "source": [
    "from sklearn.tree import DecisionTreeRegressor\n",
    "rng = np.random.RandomState(1)\n",
    "X = cfb_features_train\n",
    "y = cfb_labels_train\n",
    "# Fit regression model\n",
    "regr = DecisionTreeRegressor(max_depth=9)\n",
    "regr.fit(X, y)\n",
    "# Predict\n",
    "X_test = cfb_features_test\n",
    "result = regr.predict(X_test)"
   ]
  },
  {
   "cell_type": "code",
   "execution_count": 92,
   "id": "122c25b9",
   "metadata": {},
   "outputs": [
    {
     "name": "stdout",
     "output_type": "stream",
     "text": [
      "0.7573333333333333\n",
      "0.6293333333333333\n"
     ]
    }
   ],
   "source": [
    "test_on_spread(lines, [regr])"
   ]
  },
  {
   "cell_type": "code",
   "execution_count": 62,
   "id": "fa5aacdf",
   "metadata": {},
   "outputs": [],
   "source": [
    "def test_on_spread(lines, model_list):\n",
    "    correct = 0\n",
    "    spread_correct = 0\n",
    "    total = 0\n",
    "    for line in lines:\n",
    "        ht, at = line.home_team, line.away_team\n",
    "        hp, ap = line.home_score, line.away_score\n",
    "        inp = np.array([get_team_data(ht, at)])\n",
    "        result = [model.predict(inp)[0] for model in model_list]\n",
    "        php = 0\n",
    "        for x in result:\n",
    "            php+=x[0]\n",
    "        pap = 0\n",
    "        for x in result:\n",
    "            pap+=x[1]\n",
    "        php = php/len(result)\n",
    "        pap = pap/len(result)\n",
    "        if php>pap and hp>ap:\n",
    "            correct+=1\n",
    "        if php<pap and hp<ap:\n",
    "            correct+=1\n",
    "            \n",
    "        provider = None\n",
    "        if len(line.lines)==0:\n",
    "            continue\n",
    "        for x in line.lines:\n",
    "            if x.provider == 'consensus':\n",
    "                provider = x\n",
    "        if provider == None:\n",
    "            provider = line.lines[0]\n",
    "            \n",
    "        spread = provider.formatted_spread\n",
    "        spread = spread.split(\" \")\n",
    "        num = abs(float(spread[len(spread)-1]))\n",
    "        if len(spread)>2:\n",
    "            favorite = spread[0]+\" \"+spread[1]\n",
    "        else:\n",
    "            favorite = spread[0]\n",
    "        if favorite == ht:\n",
    "            favorite = 'h'\n",
    "        else:\n",
    "            favorite = 'a'\n",
    "        spread_correct+=check_spread(favorite, line.home_score, line.away_score, php, pap, num)\n",
    "        total+=1\n",
    "    print(correct/total)\n",
    "    print(spread_correct/total)  \n",
    "    \n",
    "def check_spread(favorite, hp, ap, php, pap, spread):\n",
    "    cs = hp-ap\n",
    "    cas = False\n",
    "    pcs = php-pap\n",
    "    pcas = False\n",
    "    if favorite == 'h':\n",
    "        if cs<0:\n",
    "            cas = False\n",
    "        else:\n",
    "            if cs>spread:\n",
    "                cas = True\n",
    "            else:\n",
    "                cas = False\n",
    "                \n",
    "        if pcs<0:\n",
    "            pas = False\n",
    "        else:\n",
    "            if pcs>spread:\n",
    "                pcas = True\n",
    "            else:\n",
    "                pcas = False\n",
    "    else:\n",
    "        if cs>0:\n",
    "            cas = False\n",
    "        else:\n",
    "            if abs(cs)>spread:\n",
    "                cas = True\n",
    "            else:\n",
    "                cas = False\n",
    "        \n",
    "        if pcs>0:\n",
    "            pas = False\n",
    "        else:\n",
    "            if abs(pcs)>spread:\n",
    "                pcas = True\n",
    "            else:\n",
    "                pcas = False\n",
    "    if cas==pcas:\n",
    "        return 1\n",
    "    else:\n",
    "        return 0"
   ]
  },
  {
   "cell_type": "code",
   "execution_count": 65,
   "id": "1560e562",
   "metadata": {},
   "outputs": [
    {
     "name": "stdout",
     "output_type": "stream",
     "text": [
      "0.7546666666666667\n",
      "0.632\n"
     ]
    }
   ],
   "source": [
    "test_on_spread(lines, [regr])"
   ]
  },
  {
   "cell_type": "code",
   "execution_count": 33,
   "id": "7783c4d0",
   "metadata": {},
   "outputs": [],
   "source": [
    "from sklearn import linear_model\n",
    "rng = np.random.RandomState(1)\n",
    "X = cfb_features_train\n",
    "y = cfb_labels_train\n",
    "# Fit regression model\n",
    "lassoReg = linear_model.Lasso(alpha=0.1)\n",
    "lassoReg.fit(X,y)\n",
    "# Predict\n",
    "X_test = cfb_features_test\n",
    "result = lassoReg.predict(X_test)"
   ]
  },
  {
   "cell_type": "code",
   "execution_count": 34,
   "id": "b38ee8f3",
   "metadata": {},
   "outputs": [
    {
     "data": {
      "text/plain": [
       "0.7740408570004983"
      ]
     },
     "execution_count": 34,
     "metadata": {},
     "output_type": "execute_result"
    }
   ],
   "source": [
    "correct = 0\n",
    "for i,x in enumerate(result):\n",
    "    p_h = x[0]\n",
    "    p_v = x[1]\n",
    "    h = cfb_labels_test[i][0]\n",
    "    v = cfb_labels_test[i][1]\n",
    "    if h>v and p_h>p_v:\n",
    "        correct+=1\n",
    "    if h<v and p_h<p_v:\n",
    "        correct+=1\n",
    "correct/len(result)"
   ]
  },
  {
   "cell_type": "code",
   "execution_count": 66,
   "id": "ef126062",
   "metadata": {},
   "outputs": [
    {
     "name": "stdout",
     "output_type": "stream",
     "text": [
      "0.792\n",
      "0.6853333333333333\n"
     ]
    }
   ],
   "source": [
    "test_on_spread(lines, [lassoReg])"
   ]
  },
  {
   "cell_type": "code",
   "execution_count": 46,
   "id": "35d50cc1",
   "metadata": {},
   "outputs": [],
   "source": [
    "from sklearn.ensemble import RandomForestRegressor\n",
    "from sklearn.datasets import make_regression\n",
    "X, y = cfb_features_train, cfb_labels_train\n",
    "rfr = RandomForestRegressor(max_depth=6)\n",
    "rfr.fit(X, y)\n",
    "X_test = cfb_features_test\n",
    "result = rfr.predict(X_test)"
   ]
  },
  {
   "cell_type": "code",
   "execution_count": 67,
   "id": "d9812fdb",
   "metadata": {},
   "outputs": [
    {
     "name": "stdout",
     "output_type": "stream",
     "text": [
      "0.8106666666666666\n",
      "0.624\n"
     ]
    }
   ],
   "source": [
    "test_on_spread(lines, [rfr])"
   ]
  },
  {
   "cell_type": "code",
   "execution_count": 70,
   "id": "3b9a8ee5",
   "metadata": {},
   "outputs": [
    {
     "name": "stdout",
     "output_type": "stream",
     "text": [
      "0.7866666666666666\n",
      "0.6826666666666666\n"
     ]
    }
   ],
   "source": [
    "from sklearn.linear_model import Ridge\n",
    "rng = np.random.RandomState(0)\n",
    "clf = Ridge(alpha=1.0)\n",
    "clf.fit(X, y)\n",
    "test_on_spread(lines, [clf])"
   ]
  },
  {
   "cell_type": "code",
   "execution_count": 68,
   "id": "951739c5",
   "metadata": {},
   "outputs": [
    {
     "name": "stdout",
     "output_type": "stream",
     "text": [
      "0.7866666666666666\n",
      "0.6826666666666666\n"
     ]
    }
   ],
   "source": [
    "test_on_spread(lines, [clf])"
   ]
  },
  {
   "cell_type": "code",
   "execution_count": 93,
   "id": "a608855e",
   "metadata": {},
   "outputs": [
    {
     "name": "stdout",
     "output_type": "stream",
     "text": [
      "0.784\n",
      "0.6933333333333334\n"
     ]
    }
   ],
   "source": [
    "from sklearn.linear_model import ElasticNet\n",
    "from sklearn.datasets import make_regression\n",
    "regr1 = ElasticNet(random_state=0)\n",
    "regr1.fit(X, y)\n",
    "test_on_spread(lines, [regr1])"
   ]
  },
  {
   "cell_type": "code",
   "execution_count": 106,
   "id": "fdf0089e",
   "metadata": {},
   "outputs": [
    {
     "name": "stdout",
     "output_type": "stream",
     "text": [
      "0.7786666666666666\n",
      "0.6986666666666667\n"
     ]
    }
   ],
   "source": [
    "from sklearn import linear_model\n",
    "reg = linear_model.Lars(n_nonzero_coefs=40, normalize=False)\n",
    "reg.fit(X,y)\n",
    "test_on_spread(lines, [reg])"
   ]
  },
  {
   "cell_type": "code",
   "execution_count": 124,
   "id": "20765e75",
   "metadata": {},
   "outputs": [
    {
     "name": "stdout",
     "output_type": "stream",
     "text": [
      "0.784\n",
      "0.6853333333333333\n"
     ]
    }
   ],
   "source": [
    "reg1 = linear_model.LassoLars(alpha=.7, normalize=False)\n",
    "reg1.fit(X,y)\n",
    "test_on_spread(lines, [reg1])"
   ]
  },
  {
   "cell_type": "code",
   "execution_count": 140,
   "id": "6fee469f",
   "metadata": {},
   "outputs": [
    {
     "name": "stdout",
     "output_type": "stream",
     "text": [
      "0.7946666666666666\n",
      "0.7013333333333334\n"
     ]
    }
   ],
   "source": [
    "# model_list = [regr, lassoReg, rfr, clf, regr1, reg, reg1]\n",
    "model_list = [clf, regr1, reg, reg1]\n",
    "\n",
    "test_on_spread(lines, model_list)"
   ]
  },
  {
   "cell_type": "code",
   "execution_count": 145,
   "id": "de83109f",
   "metadata": {},
   "outputs": [
    {
     "name": "stdout",
     "output_type": "stream",
     "text": [
      "<class 'sklearn.linear_model._ridge.Ridge'>\n",
      "<class 'sklearn.linear_model._coordinate_descent.ElasticNet'>\n",
      "<class 'sklearn.linear_model._least_angle.Lars'>\n",
      "<class 'sklearn.linear_model._least_angle.LassoLars'>\n"
     ]
    }
   ],
   "source": [
    "for x in model_list:\n",
    "    print(type(x))"
   ]
  },
  {
   "cell_type": "code",
   "execution_count": 148,
   "id": "38add613",
   "metadata": {},
   "outputs": [
    {
     "name": "stdout",
     "output_type": "stream",
     "text": [
      "0.784\n",
      "0.6853333333333333\n"
     ]
    }
   ],
   "source": [
    "import pickle\n",
    "pkl_filename = \"lassolars_model.pkl\"\n",
    "with open(pkl_filename, 'wb') as file:\n",
    "    pickle.dump(reg1, file)\n",
    "with open(pkl_filename, 'rb') as file:\n",
    "    pickle_model = pickle.load(file)\n",
    "test_on_spread(lines, [pickle_model])"
   ]
  }
 ],
 "metadata": {
  "kernelspec": {
   "display_name": "Python 3 (ipykernel)",
   "language": "python",
   "name": "python3"
  },
  "language_info": {
   "codemirror_mode": {
    "name": "ipython",
    "version": 3
   },
   "file_extension": ".py",
   "mimetype": "text/x-python",
   "name": "python",
   "nbconvert_exporter": "python",
   "pygments_lexer": "ipython3",
   "version": "3.8.12"
  }
 },
 "nbformat": 4,
 "nbformat_minor": 5
}
