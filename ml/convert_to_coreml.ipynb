{
 "cells": [
  {
   "cell_type": "code",
   "execution_count": 12,
   "id": "2876ceb7",
   "metadata": {},
   "outputs": [],
   "source": [
    "import coremltools as ct\n",
    "import tensorflow as tf\n",
    "from tensorflow import keras"
   ]
  },
  {
   "cell_type": "code",
   "execution_count": 13,
   "id": "6c78c0f4",
   "metadata": {},
   "outputs": [],
   "source": [
    "%%capture\n",
    "tf_model1 = keras.models.load_model('models/acc_774/model')\n",
    "model1 = ct.convert(tf_model1, convert_to=\"mlprogram\")\n",
    "spec = model1.get_spec()\n",
    "ct.utils.rename_feature(spec, 'input_3', 'input')\n",
    "model1 = ct.models.MLModel(spec, weights_dir=model1.weights_dir)\n",
    "model1.save('coreml_models/acc_774/model.mlpackage')\n",
    "\n",
    "tf_model2 = keras.models.load_model('models/acc_773/model')\n",
    "model2 = ct.convert(tf_model2, convert_to=\"mlprogram\")\n",
    "spec = model2.get_spec()\n",
    "ct.utils.rename_feature(spec, 'input_3', 'input')\n",
    "model2 = ct.models.MLModel(spec, weights_dir=model2.weights_dir)\n",
    "model2.save('coreml_models/acc_773/model.mlpackage')\n",
    "\n",
    "tf_model3 = keras.models.load_model('models/acc_772/model')\n",
    "model3 = ct.convert(tf_model3, convert_to=\"mlprogram\")\n",
    "spec = model3.get_spec()\n",
    "ct.utils.rename_feature(spec, 'input_3', 'input')\n",
    "model3 = ct.models.MLModel(spec, weights_dir=model3.weights_dir)\n",
    "model2.save('coreml_models/acc_772/model.mlpackage')\n",
    "\n",
    "tf_model4 = keras.models.load_model('models/acc_771/model')\n",
    "model4 = ct.convert(tf_model4, convert_to=\"mlprogram\")\n",
    "spec = model4.get_spec()\n",
    "ct.utils.rename_feature(spec, 'input_3', 'input')\n",
    "model4 = ct.models.MLModel(spec, weights_dir=model4.weights_dir)\n",
    "model2.save('coreml_models/acc_771/model.mlpackage')\n",
    "\n",
    "tf_model5 = keras.models.load_model('models/acc_769/model')\n",
    "model5 = ct.convert(tf_model5, convert_to=\"mlprogram\")\n",
    "spec = model5.get_spec()\n",
    "ct.utils.rename_feature(spec, 'input_9', 'input')\n",
    "model5 = ct.models.MLModel(spec, weights_dir=model5.weights_dir)\n",
    "model2.save('coreml_models/acc_769/model.mlpackage')\n",
    "\n",
    "tf_model6 = keras.models.load_model('models/acc_768/model')\n",
    "model6 = ct.convert(tf_model6, convert_to=\"mlprogram\")\n",
    "spec = model6.get_spec()\n",
    "ct.utils.rename_feature(spec, 'input_2', 'input')\n",
    "model6 = ct.models.MLModel(spec, weights_dir=model6.weights_dir)\n",
    "model2.save('coreml_models/acc_768/model.mlpackage')\n",
    "\n",
    "tf_model7 = keras.models.load_model('models/acc_763/model')\n",
    "model7 = ct.convert(tf_model7, convert_to=\"mlprogram\")\n",
    "spec = model7.get_spec()\n",
    "ct.utils.rename_feature(spec, 'input_3', 'input')\n",
    "model7 = ct.models.MLModel(spec, weights_dir=model7.weights_dir)\n",
    "model2.save('coreml_models/acc_763/model.mlpackage')\n",
    "\n",
    "tf_model8 = keras.models.load_model('models/acc_762/model')\n",
    "model8 = ct.convert(tf_model8, convert_to=\"mlprogram\")\n",
    "spec = model8.get_spec()\n",
    "ct.utils.rename_feature(spec, 'input_9', 'input')\n",
    "model8 = ct.models.MLModel(spec, weights_dir=model8.weights_dir)\n",
    "model2.save('coreml_models/acc_762/model.mlpackage')"
   ]
  },
  {
   "cell_type": "code",
   "execution_count": null,
   "id": "4633ae70",
   "metadata": {},
   "outputs": [],
   "source": []
  }
 ],
 "metadata": {
  "kernelspec": {
   "display_name": "Python 3 (ipykernel)",
   "language": "python",
   "name": "python3"
  },
  "language_info": {
   "codemirror_mode": {
    "name": "ipython",
    "version": 3
   },
   "file_extension": ".py",
   "mimetype": "text/x-python",
   "name": "python",
   "nbconvert_exporter": "python",
   "pygments_lexer": "ipython3",
   "version": "3.8.12"
  }
 },
 "nbformat": 4,
 "nbformat_minor": 5
}
