{
 "cells": [
  {
   "cell_type": "code",
   "execution_count": 25,
   "id": "23ff9baa",
   "metadata": {},
   "outputs": [],
   "source": [
    "import csv"
   ]
  },
  {
   "cell_type": "code",
   "execution_count": 29,
   "id": "7370b863",
   "metadata": {},
   "outputs": [],
   "source": [
    "header = []\n",
    "all_lines = []\n",
    "for year in range(2004,2022):\n",
    "    with open('modified_dataset/output'+str(year)+'.csv', 'r') as read_obj:\n",
    "        csv_reader = csv.reader(read_obj)\n",
    "        list_of_csv = list(csv_reader)\n",
    "    read_obj.close()\n",
    "    header = list_of_csv[0]\n",
    "    for x in list_of_csv[1:]:\n",
    "        if x[len(x)-1]==\"\":\n",
    "            continue\n",
    "        all_lines.append(x)"
   ]
  },
  {
   "cell_type": "code",
   "execution_count": 30,
   "id": "0875934f",
   "metadata": {},
   "outputs": [
    {
     "name": "stdout",
     "output_type": "stream",
     "text": [
      "12161\n"
     ]
    }
   ],
   "source": [
    "print(len(all_lines))"
   ]
  },
  {
   "cell_type": "code",
   "execution_count": 31,
   "id": "b118ddb9",
   "metadata": {},
   "outputs": [],
   "source": [
    "output = [header]\n",
    "output.extend(all_lines)"
   ]
  },
  {
   "cell_type": "code",
   "execution_count": 32,
   "id": "ccb3e4ee",
   "metadata": {},
   "outputs": [],
   "source": [
    "with open(\"merged_dataset.csv\", \"w\") as f:\n",
    "    writer = csv.writer(f)\n",
    "    writer.writerows(output)\n",
    "f.close()"
   ]
  }
 ],
 "metadata": {
  "kernelspec": {
   "display_name": "Python 3 (ipykernel)",
   "language": "python",
   "name": "python3"
  },
  "language_info": {
   "codemirror_mode": {
    "name": "ipython",
    "version": 3
   },
   "file_extension": ".py",
   "mimetype": "text/x-python",
   "name": "python",
   "nbconvert_exporter": "python",
   "pygments_lexer": "ipython3",
   "version": "3.8.12"
  }
 },
 "nbformat": 4,
 "nbformat_minor": 5
}
