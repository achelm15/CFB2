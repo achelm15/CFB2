{
 "cells": [
  {
   "cell_type": "code",
   "execution_count": 676,
   "id": "800c5014",
   "metadata": {},
   "outputs": [],
   "source": [
    "import pandas as pd\n",
    "from colorama import Back, Style"
   ]
  },
  {
   "cell_type": "code",
   "execution_count": 679,
   "id": "fe65add8",
   "metadata": {},
   "outputs": [],
   "source": [
    "for year in range(2004,2022):\n",
    "    df = pd.read_csv(\"initial_dataset/output\"+str(year)+\".csv\")\n",
    "    df.head()\n",
    "    df = df.drop(columns=\"home_games.1\")\n",
    "    df = df.drop(columns=\"away_games.1\")\n",
    "    cols = list(df.columns)\n",
    "    nc = []\n",
    "    c = []\n",
    "    for i,x in enumerate(cols):\n",
    "        if i<11:\n",
    "            nc.append(x)\n",
    "        if 'total' in x:\n",
    "            c.append(x)\n",
    "        if 'drives' in x:\n",
    "            c.append(x)\n",
    "        if 'rate' in x:\n",
    "            nc.append(x)\n",
    "        if 'average' in x:\n",
    "            nc.append(x)\n",
    "        if 'explosiveness' in x:\n",
    "            nc.append(x)\n",
    "    new_cols = []\n",
    "    for x in cols:\n",
    "        if x not in nc and x not in c:\n",
    "            new_cols.append(x)\n",
    "    c.extend(new_cols[:50])\n",
    "    new_cols = new_cols[50:]\n",
    "    ac = 0\n",
    "    hc = 0\n",
    "    for i,x in enumerate(new_cols):\n",
    "        if 'home' in x:\n",
    "            hc+=1\n",
    "        if 'away' in x:\n",
    "            ac+=1\n",
    "    for i,x in enumerate(new_cols):\n",
    "        if 'havoc' in x:\n",
    "            nc.append(x)\n",
    "        if '_defense_plays' in x:\n",
    "            c.append(x)\n",
    "        if '_offense_plays' in x:\n",
    "            c.append(x)\n",
    "    for x in nc:\n",
    "        if x in new_cols:\n",
    "            new_cols.remove(x)\n",
    "    for x in c:\n",
    "        if x in new_cols:\n",
    "            new_cols.remove(x)\n",
    "    for i,x in enumerate(new_cols):\n",
    "        nc.append(x)\n",
    "    new_cols = []\n",
    "    for x in c:\n",
    "        if 'home' in x:\n",
    "            df[x] = df[x]/df['home_games']\n",
    "        if 'away' in x:\n",
    "            df[x] = df[x]/df['away_games']\n",
    "    df.to_csv(\"modified_dataset/output\"+str(year)+\".csv\", index=False) "
   ]
  }
 ],
 "metadata": {
  "kernelspec": {
   "display_name": "Python 3 (ipykernel)",
   "language": "python",
   "name": "python3"
  },
  "language_info": {
   "codemirror_mode": {
    "name": "ipython",
    "version": 3
   },
   "file_extension": ".py",
   "mimetype": "text/x-python",
   "name": "python",
   "nbconvert_exporter": "python",
   "pygments_lexer": "ipython3",
   "version": "3.8.12"
  }
 },
 "nbformat": 4,
 "nbformat_minor": 5
}
